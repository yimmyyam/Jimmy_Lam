{
 "cells": [
  {
   "cell_type": "markdown",
   "metadata": {},
   "source": [
    "<center>\n",
    "    <img src=\"https://gitlab.com/ibm/skills-network/courses/placeholder101/-/raw/master/labs/module%201/images/IDSNlogo.png\" width=\"300\" alt=\"cognitiveclass.ai logo\"  />\n",
    "</center>\n"
   ]
  },
  {
   "cell_type": "markdown",
   "metadata": {},
   "source": [
    "# **Data Wrangling Lab**\n"
   ]
  },
  {
   "cell_type": "markdown",
   "metadata": {},
   "source": [
    "Estimated time needed: **45 to 60** minutes\n"
   ]
  },
  {
   "cell_type": "markdown",
   "metadata": {},
   "source": [
    "In this assignment you will be performing data wrangling.\n"
   ]
  },
  {
   "cell_type": "markdown",
   "metadata": {},
   "source": [
    "## Objectives\n"
   ]
  },
  {
   "cell_type": "markdown",
   "metadata": {},
   "source": [
    "In this lab you will perform the following:\n"
   ]
  },
  {
   "cell_type": "markdown",
   "metadata": {},
   "source": [
    "*   Identify duplicate values in the dataset.\n",
    "\n",
    "*   Remove duplicate values from the dataset.\n",
    "\n",
    "*   Identify missing values in the dataset.\n",
    "\n",
    "*   Impute the missing values in the dataset.\n",
    "\n",
    "*   Normalize data in the dataset.\n"
   ]
  },
  {
   "cell_type": "markdown",
   "metadata": {},
   "source": [
    "<hr>\n"
   ]
  },
  {
   "cell_type": "markdown",
   "metadata": {},
   "source": [
    "## Hands on Lab\n"
   ]
  },
  {
   "cell_type": "markdown",
   "metadata": {},
   "source": [
    "Import pandas module.\n"
   ]
  },
  {
   "cell_type": "code",
   "execution_count": 1,
   "metadata": {},
   "outputs": [],
   "source": [
    "import pandas as pd"
   ]
  },
  {
   "cell_type": "markdown",
   "metadata": {},
   "source": [
    "Load the dataset into a dataframe.\n"
   ]
  },
  {
   "cell_type": "code",
   "execution_count": 75,
   "metadata": {},
   "outputs": [
    {
     "name": "stdout",
     "output_type": "stream",
     "text": [
      "<class 'pandas.core.frame.DataFrame'>\n",
      "RangeIndex: 11552 entries, 0 to 11551\n",
      "Data columns (total 85 columns):\n",
      " #   Column                  Non-Null Count  Dtype  \n",
      "---  ------                  --------------  -----  \n",
      " 0   Respondent              11552 non-null  int64  \n",
      " 1   MainBranch              11552 non-null  object \n",
      " 2   Hobbyist                11552 non-null  object \n",
      " 3   OpenSourcer             11552 non-null  object \n",
      " 4   OpenSource              11471 non-null  object \n",
      " 5   Employment              11552 non-null  object \n",
      " 6   Country                 11552 non-null  object \n",
      " 7   Student                 11499 non-null  object \n",
      " 8   EdLevel                 11436 non-null  object \n",
      " 9   UndergradMajor          10812 non-null  object \n",
      " 10  EduOther                11388 non-null  object \n",
      " 11  OrgSize                 11454 non-null  object \n",
      " 12  DevType                 11485 non-null  object \n",
      " 13  YearsCode               11543 non-null  object \n",
      " 14  Age1stCode              11539 non-null  object \n",
      " 15  YearsCodePro            11536 non-null  object \n",
      " 16  CareerSat               11552 non-null  object \n",
      " 17  JobSat                  11551 non-null  object \n",
      " 18  MgrIdiot                11054 non-null  object \n",
      " 19  MgrMoney                11050 non-null  object \n",
      " 20  MgrWant                 11054 non-null  object \n",
      " 21  JobSeek                 11552 non-null  object \n",
      " 22  LastHireDate            11552 non-null  object \n",
      " 23  LastInt                 11129 non-null  object \n",
      " 24  FizzBuzz                11515 non-null  object \n",
      " 25  JobFactors              11549 non-null  object \n",
      " 26  ResumeUpdate            11511 non-null  object \n",
      " 27  CurrencySymbol          11552 non-null  object \n",
      " 28  CurrencyDesc            11552 non-null  object \n",
      " 29  CompTotal               10737 non-null  float64\n",
      " 30  CompFreq                11346 non-null  object \n",
      " 31  ConvertedComp           10730 non-null  float64\n",
      " 32  WorkWeekHrs             11427 non-null  float64\n",
      " 33  WorkPlan                11429 non-null  object \n",
      " 34  WorkChallenge           11384 non-null  object \n",
      " 35  WorkRemote              11544 non-null  object \n",
      " 36  WorkLoc                 11520 non-null  object \n",
      " 37  ImpSyn                  11547 non-null  object \n",
      " 38  CodeRev                 11551 non-null  object \n",
      " 39  CodeRevHrs              9083 non-null   float64\n",
      " 40  UnitTests               11523 non-null  object \n",
      " 41  PurchaseHow             11354 non-null  object \n",
      " 42  PurchaseWhat            11514 non-null  object \n",
      " 43  LanguageWorkedWith      11541 non-null  object \n",
      " 44  LanguageDesireNextYear  11415 non-null  object \n",
      " 45  DatabaseWorkedWith      11096 non-null  object \n",
      " 46  DatabaseDesireNextYear  10497 non-null  object \n",
      " 47  PlatformWorkedWith      11130 non-null  object \n",
      " 48  PlatformDesireNextYear  10991 non-null  object \n",
      " 49  WebFrameWorkedWith      10139 non-null  object \n",
      " 50  WebFrameDesireNextYear  9918 non-null   object \n",
      " 51  MiscTechWorkedWith      9343 non-null   object \n",
      " 52  MiscTechDesireNextYear  10078 non-null  object \n",
      " 53  DevEnviron              11523 non-null  object \n",
      " 54  OpSys                   11518 non-null  object \n",
      " 55  Containers              11470 non-null  object \n",
      " 56  BlockchainOrg           9198 non-null   object \n",
      " 57  BlockchainIs            8915 non-null   object \n",
      " 58  BetterLife              11452 non-null  object \n",
      " 59  ITperson                11517 non-null  object \n",
      " 60  OffOn                   11514 non-null  object \n",
      " 61  SocialMedia             11251 non-null  object \n",
      " 62  Extraversion            11532 non-null  object \n",
      " 63  ScreenName              11039 non-null  object \n",
      " 64  SOVisit1st              11227 non-null  object \n",
      " 65  SOVisitFreq             11547 non-null  object \n",
      " 66  SOVisitTo               11551 non-null  object \n",
      " 67  SOFindAnswer            11549 non-null  object \n",
      " 68  SOTimeSaved             11501 non-null  object \n",
      " 69  SOHowMuchTime           9616 non-null   object \n",
      " 70  SOAccount               11551 non-null  object \n",
      " 71  SOPartFreq              10404 non-null  object \n",
      " 72  SOJobs                  11546 non-null  object \n",
      " 73  EntTeams                11547 non-null  object \n",
      " 74  SOComm                  11552 non-null  object \n",
      " 75  WelcomeChange           11463 non-null  object \n",
      " 76  SONewContent            9557 non-null   object \n",
      " 77  Age                     11255 non-null  float64\n",
      " 78  Gender                  11477 non-null  object \n",
      " 79  Trans                   11429 non-null  object \n",
      " 80  Sexuality               11005 non-null  object \n",
      " 81  Ethnicity               10869 non-null  object \n",
      " 82  Dependents              11408 non-null  object \n",
      " 83  SurveyLength            11533 non-null  object \n",
      " 84  SurveyEase              11538 non-null  object \n",
      "dtypes: float64(5), int64(1), object(79)\n",
      "memory usage: 7.5+ MB\n"
     ]
    }
   ],
   "source": [
    "df = pd.read_csv(\"https://cf-courses-data.s3.us.cloud-object-storage.appdomain.cloud/IBM-DA0321EN-SkillsNetwork/LargeData/m1_survey_data.csv\")\n",
    "df.info()\n"
   ]
  },
  {
   "cell_type": "markdown",
   "metadata": {},
   "source": [
    "## Finding duplicates\n"
   ]
  },
  {
   "cell_type": "markdown",
   "metadata": {},
   "source": [
    "In this section you will identify duplicate values in the dataset.\n"
   ]
  },
  {
   "cell_type": "markdown",
   "metadata": {},
   "source": [
    "Find how many duplicate rows exist in the dataframe.\n"
   ]
  },
  {
   "cell_type": "code",
   "execution_count": 29,
   "metadata": {},
   "outputs": [
    {
     "data": {
      "text/plain": [
       "154"
      ]
     },
     "execution_count": 29,
     "metadata": {},
     "output_type": "execute_result"
    }
   ],
   "source": [
    "# your code goes here\n",
    "df.duplicated('Respondent').sum()\n",
    "\n",
    "\n"
   ]
  },
  {
   "cell_type": "markdown",
   "metadata": {},
   "source": [
    "## Removing duplicates\n"
   ]
  },
  {
   "cell_type": "markdown",
   "metadata": {},
   "source": [
    "Remove the duplicate rows from the dataframe.\n"
   ]
  },
  {
   "cell_type": "code",
   "execution_count": 34,
   "metadata": {},
   "outputs": [],
   "source": [
    "# your code goes here\n",
    "# your code goes here\n",
    "\n",
    "df.drop_duplicates('Respondent', inplace=True)\n"
   ]
  },
  {
   "cell_type": "markdown",
   "metadata": {},
   "source": [
    "Verify if duplicates were actually dropped.\n"
   ]
  },
  {
   "cell_type": "code",
   "execution_count": 35,
   "metadata": {},
   "outputs": [
    {
     "data": {
      "text/plain": [
       "0"
      ]
     },
     "execution_count": 35,
     "metadata": {},
     "output_type": "execute_result"
    }
   ],
   "source": [
    "# your code goes here\n",
    "df.duplicated('Respondent').sum()\n"
   ]
  },
  {
   "cell_type": "markdown",
   "metadata": {},
   "source": [
    "## Finding Missing values\n"
   ]
  },
  {
   "cell_type": "markdown",
   "metadata": {},
   "source": [
    "Find the missing values for all columns.\n"
   ]
  },
  {
   "cell_type": "code",
   "execution_count": 58,
   "metadata": {},
   "outputs": [],
   "source": [
    "# your code goes here\n",
    "num_vars = df.columns[df.dtypes != 'object']\n",
    "df[num_vars].isnull().sum()"
   ]
  },
  {
   "cell_type": "markdown",
   "metadata": {},
   "source": [
    "Find out how many rows are missing in the column 'WorkLoc'\n"
   ]
  },
  {
   "cell_type": "code",
   "execution_count": 88,
   "metadata": {},
   "outputs": [
    {
     "data": {
      "text/plain": [
       "32"
      ]
     },
     "execution_count": 88,
     "metadata": {},
     "output_type": "execute_result"
    }
   ],
   "source": [
    "# your code goes here\n",
    "df['WorkLoc'].isnull().sum()"
   ]
  },
  {
   "cell_type": "code",
   "execution_count": 90,
   "metadata": {},
   "outputs": [
    {
     "data": {
      "text/plain": [
       "0"
      ]
     },
     "execution_count": 90,
     "metadata": {},
     "output_type": "execute_result"
    }
   ],
   "source": [
    "df['Country'].isnull().sum()"
   ]
  },
  {
   "cell_type": "markdown",
   "metadata": {},
   "source": [
    "## Imputing missing values\n"
   ]
  },
  {
   "cell_type": "markdown",
   "metadata": {},
   "source": [
    "Find the  value counts for the column WorkLoc.\n"
   ]
  },
  {
   "cell_type": "code",
   "execution_count": 63,
   "metadata": {},
   "outputs": [
    {
     "data": {
      "text/plain": [
       "Office                                            6806\n",
       "Home                                              3589\n",
       "Other place, such as a coworking space or cafe     971\n",
       "Name: WorkLoc, dtype: int64"
      ]
     },
     "execution_count": 63,
     "metadata": {},
     "output_type": "execute_result"
    }
   ],
   "source": [
    "# your code goes here\n",
    "df['WorkLoc'].value_counts()"
   ]
  },
  {
   "cell_type": "code",
   "execution_count": 91,
   "metadata": {},
   "outputs": [
    {
     "data": {
      "text/plain": [
       "Employed full-time    11113\n",
       "Employed part-time      439\n",
       "Name: Employment, dtype: int64"
      ]
     },
     "execution_count": 91,
     "metadata": {},
     "output_type": "execute_result"
    }
   ],
   "source": [
    "df['Employment'].value_counts()"
   ]
  },
  {
   "cell_type": "code",
   "execution_count": 92,
   "metadata": {},
   "outputs": [
    {
     "data": {
      "text/plain": [
       "Computer science, computer engineering, or software engineering          7053\n",
       "Information systems, information technology, or system administration     806\n",
       "Another engineering discipline (ex. civil, electrical, mechanical)        769\n",
       "Web development or web design                                             417\n",
       "A natural science (ex. biology, chemistry, physics)                       409\n",
       "Mathematics or statistics                                                 375\n",
       "A business discipline (ex. accounting, finance, marketing)                247\n",
       "A social science (ex. anthropology, psychology, political science)        212\n",
       "A humanities discipline (ex. literature, history, philosophy)             209\n",
       "Fine arts or performing arts (ex. graphic design, music, studio art)      165\n",
       "I never declared a major                                                  126\n",
       "A health science (ex. nursing, pharmacy, radiology)                        24\n",
       "Name: UndergradMajor, dtype: int64"
      ]
     },
     "execution_count": 92,
     "metadata": {},
     "output_type": "execute_result"
    }
   ],
   "source": [
    "df['UndergradMajor'].value_counts()"
   ]
  },
  {
   "cell_type": "markdown",
   "metadata": {},
   "source": [
    "Identify the value that is most frequent (majority) in the WorkLoc column.\n"
   ]
  },
  {
   "cell_type": "code",
   "execution_count": 64,
   "metadata": {},
   "outputs": [
    {
     "data": {
      "text/plain": [
       "0    Office\n",
       "dtype: object"
      ]
     },
     "execution_count": 64,
     "metadata": {},
     "output_type": "execute_result"
    }
   ],
   "source": [
    "#make a note of the majority value here, for future reference\n",
    "#\n",
    "df['WorkLoc'].mode()"
   ]
  },
  {
   "cell_type": "markdown",
   "metadata": {},
   "source": [
    "Impute (replace) all the empty rows in the column WorkLoc with the value that you have identified as majority.\n"
   ]
  },
  {
   "cell_type": "code",
   "execution_count": 67,
   "metadata": {},
   "outputs": [],
   "source": [
    "# your code goes here\n",
    "df['WorkLoc'].fillna(value = \"Office\", inplace=True)"
   ]
  },
  {
   "cell_type": "markdown",
   "metadata": {},
   "source": [
    "After imputation there should ideally not be any empty rows in the WorkLoc column.\n"
   ]
  },
  {
   "cell_type": "markdown",
   "metadata": {},
   "source": [
    "Verify if imputing was successful.\n"
   ]
  },
  {
   "cell_type": "code",
   "execution_count": 68,
   "metadata": {},
   "outputs": [
    {
     "data": {
      "text/plain": [
       "0"
      ]
     },
     "execution_count": 68,
     "metadata": {},
     "output_type": "execute_result"
    }
   ],
   "source": [
    "# your code goes here\n",
    "\n",
    "df['WorkLoc'].isnull().sum()"
   ]
  },
  {
   "cell_type": "markdown",
   "metadata": {},
   "source": [
    "## Normalizing data\n"
   ]
  },
  {
   "cell_type": "markdown",
   "metadata": {},
   "source": [
    "There are two columns in the dataset that talk about compensation.\n",
    "\n",
    "One is \"CompFreq\". This column shows how often a developer is paid (Yearly, Monthly, Weekly).\n",
    "\n",
    "The other is \"CompTotal\". This column talks about how much the developer is paid per Year, Month, or Week depending upon his/her \"CompFreq\".\n",
    "\n",
    "This makes it difficult to compare the total compensation of the developers.\n",
    "\n",
    "In this section you will create a new column called 'NormalizedAnnualCompensation' which contains the 'Annual Compensation' irrespective of the 'CompFreq'.\n",
    "\n",
    "Once this column is ready, it makes comparison of salaries easy.\n"
   ]
  },
  {
   "cell_type": "markdown",
   "metadata": {},
   "source": [
    "<hr>\n"
   ]
  },
  {
   "cell_type": "markdown",
   "metadata": {},
   "source": [
    "List out the various categories in the column 'CompFreq'\n"
   ]
  },
  {
   "cell_type": "code",
   "execution_count": 95,
   "metadata": {},
   "outputs": [
    {
     "data": {
      "text/plain": [
       "Yearly     6163\n",
       "Monthly    4846\n",
       "Weekly      337\n",
       "Name: CompFreq, dtype: int64"
      ]
     },
     "execution_count": 95,
     "metadata": {},
     "output_type": "execute_result"
    }
   ],
   "source": [
    "# your code goes here\n",
    "df['CompFreq'].value_counts()\n"
   ]
  },
  {
   "cell_type": "markdown",
   "metadata": {},
   "source": [
    "Create a new column named 'NormalizedAnnualCompensation'. Use the hint given below if needed.\n"
   ]
  },
  {
   "cell_type": "markdown",
   "metadata": {},
   "source": [
    "Double click to see the **Hint**.\n",
    "\n",
    "<!--\n",
    "\n",
    "Use the below logic to arrive at the values for the column NormalizedAnnualCompensation.\n",
    "\n",
    "If the CompFreq is Yearly then use the exising value in CompTotal\n",
    "If the CompFreq is Monthly then multiply the value in CompTotal with 12 (months in an year)\n",
    "If the CompFreq is Weekly then multiply the value in CompTotal with 52 (weeks in an year)\n",
    "\n",
    "-->\n"
   ]
  },
  {
   "cell_type": "code",
   "execution_count": 93,
   "metadata": {},
   "outputs": [
    {
     "data": {
      "text/plain": [
       "100000.0"
      ]
     },
     "execution_count": 93,
     "metadata": {},
     "output_type": "execute_result"
    }
   ],
   "source": [
    "# your code goes here\n",
    "# comtotal should be adjusted by annually\n",
    "replace={'Yearly': 1, 'Monthly': 12, 'Weekly': 52} \n",
    "\n",
    "# make a helper column for producting 'CompTotal'======>\n",
    "adjust_product = df['CompFreq'].map(replace)\n",
    "\n",
    "# creating new column as 'NormalizedAnnualCompensation':====>\n",
    "df['NormalizedAnnualCompensation'] = adjust_product* df['CompTotal']\n",
    "\n",
    "df['NormalizedAnnualCompensation'].median()"
   ]
  },
  {
   "cell_type": "markdown",
   "metadata": {},
   "source": [
    "## Authors\n"
   ]
  },
  {
   "cell_type": "markdown",
   "metadata": {},
   "source": [
    "Ramesh Sannareddy\n"
   ]
  },
  {
   "cell_type": "markdown",
   "metadata": {},
   "source": [
    "### Other Contributors\n"
   ]
  },
  {
   "cell_type": "markdown",
   "metadata": {},
   "source": [
    "Rav Ahuja\n"
   ]
  },
  {
   "cell_type": "markdown",
   "metadata": {},
   "source": [
    "## Change Log\n"
   ]
  },
  {
   "cell_type": "markdown",
   "metadata": {},
   "source": [
    "| Date (YYYY-MM-DD) | Version | Changed By        | Change Description                 |\n",
    "| ----------------- | ------- | ----------------- | ---------------------------------- |\n",
    "| 2020-10-17        | 0.1     | Ramesh Sannareddy | Created initial version of the lab |\n"
   ]
  },
  {
   "cell_type": "markdown",
   "metadata": {},
   "source": [
    "Copyright © 2020 IBM Corporation. This notebook and its source code are released under the terms of the [MIT License](https://cognitiveclass.ai/mit-license?utm_medium=Exinfluencer&utm_source=Exinfluencer&utm_content=000026UJ&utm_term=10006555&utm_id=NA-SkillsNetwork-Channel-SkillsNetworkCoursesIBMDA0321ENSkillsNetwork21426264-2021-01-01&cm_mmc=Email_Newsletter-\\_-Developer_Ed%2BTech-\\_-WW_WW-\\_-SkillsNetwork-Courses-IBM-DA0321EN-SkillsNetwork-21426264&cm_mmca1=000026UJ&cm_mmca2=10006555&cm_mmca3=M12345678&cvosrc=email.Newsletter.M12345678&cvo_campaign=000026UJ).\n"
   ]
  }
 ],
 "metadata": {
  "kernelspec": {
   "display_name": "Python 3 (ipykernel)",
   "language": "python",
   "name": "python3"
  },
  "language_info": {
   "codemirror_mode": {
    "name": "ipython",
    "version": 3
   },
   "file_extension": ".py",
   "mimetype": "text/x-python",
   "name": "python",
   "nbconvert_exporter": "python",
   "pygments_lexer": "ipython3",
   "version": "3.9.7"
  }
 },
 "nbformat": 4,
 "nbformat_minor": 4
}
